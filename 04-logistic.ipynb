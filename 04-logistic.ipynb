{
 "cells": [
  {
   "cell_type": "code",
   "execution_count": 1,
   "metadata": {},
   "outputs": [
    {
     "name": "stdout",
     "output_type": "stream",
     "text": [
      "start read file\n",
      "start read file\n"
     ]
    }
   ],
   "source": [
    "import numpy as np\n",
    "from minst import loadData\n",
    "\n",
    "trainData, trainLabel = loadData(fileName='D:/Jupyter/mnist_train.csv',label_bin=1)\n",
    "testData, testLabel   = loadData(fileName='D:/Jupyter/mnist_test.csv',label_bin=1)"
   ]
  },
  {
   "cell_type": "code",
   "execution_count": 2,
   "metadata": {},
   "outputs": [],
   "source": [
    "def logisticRegression(trainData, trainLabel, iter = 200,h=0.001):\n",
    "    '''\n",
    "    逻辑斯蒂回归训练过程\n",
    "    :param trainDataList:训练集\n",
    "    :param trainLabelList: 标签集\n",
    "    :param iter: 迭代次数\n",
    "    :param h: 学习率\n",
    "    :return: 学习得的w\n",
    "    '''\n",
    "    for i in range(len(trainData)):\n",
    "        trainData[i].append(1)             #在每一行最后添加一个1  (作为b)\n",
    "    trainData = np.array(trainData)\n",
    "    \n",
    "    w = np.zeros(trainData.shape[1])       #初始化w ((784+1),1)\n",
    "    \n",
    "    for i in range(iter):                  #迭代iter次进行随机梯度下降\n",
    "        for j in range(trainData.shape[0]): # 6000 随机梯度下降 \n",
    "            wx = np.dot(w,trainData[j])\n",
    "            xi = trainData[j]\n",
    "            yi = trainLabel[j]\n",
    "            w +=  h * (xi * yi - (np.exp(wx) * xi) / ( 1 + np.exp(wx)))\n",
    "    return w\n",
    "    "
   ]
  },
  {
   "cell_type": "code",
   "execution_count": 3,
   "metadata": {},
   "outputs": [
    {
     "name": "stderr",
     "output_type": "stream",
     "text": [
      "C:\\Anaconda3\\lib\\site-packages\\ipykernel_launcher.py:22: RuntimeWarning: invalid value encountered in multiply\n",
      "C:\\Anaconda3\\lib\\site-packages\\ipykernel_launcher.py:22: RuntimeWarning: invalid value encountered in true_divide\n"
     ]
    }
   ],
   "source": [
    "w = logisticRegression(trainData, trainLabel)"
   ]
  },
  {
   "cell_type": "code",
   "execution_count": 4,
   "metadata": {},
   "outputs": [],
   "source": [
    "def predict(w, x):\n",
    "    '''\n",
    "    预测标签\n",
    "    :param w:训练过程中学到的w\n",
    "    :param x: 要预测的样本\n",
    "    :return: 预测结果\n",
    "    '''\n",
    "    wx = np.dot(w, x)\n",
    "    P1 = np.exp(wx) / (1 + np.exp(wx))\n",
    "    if P1 >= 0.5:\n",
    "        return 1\n",
    "    return 0"
   ]
  },
  {
   "cell_type": "code",
   "execution_count": 7,
   "metadata": {},
   "outputs": [
    {
     "name": "stdout",
     "output_type": "stream",
     "text": [
      "0.902\n"
     ]
    }
   ],
   "source": [
    "for i in range(len(testData)):\n",
    "        testData[i].append(1)\n",
    "        \n",
    "errorCnt = 0\n",
    "for i in range(len(testData)):\n",
    "    if testLabel[i] != predict(w,testData[i]):\n",
    "        errorCnt += 1\n",
    "accuracy = 1 - errorCnt / len(testData)\n",
    "print(accuracy)"
   ]
  }
 ],
 "metadata": {
  "kernelspec": {
   "display_name": "Python 3",
   "language": "python",
   "name": "python3"
  },
  "language_info": {
   "codemirror_mode": {
    "name": "ipython",
    "version": 3
   },
   "file_extension": ".py",
   "mimetype": "text/x-python",
   "name": "python",
   "nbconvert_exporter": "python",
   "pygments_lexer": "ipython3",
   "version": "3.6.5"
  },
  "varInspector": {
   "cols": {
    "lenName": 16,
    "lenType": 16,
    "lenVar": 40
   },
   "kernels_config": {
    "python": {
     "delete_cmd_postfix": "",
     "delete_cmd_prefix": "del ",
     "library": "var_list.py",
     "varRefreshCmd": "print(var_dic_list())"
    },
    "r": {
     "delete_cmd_postfix": ") ",
     "delete_cmd_prefix": "rm(",
     "library": "var_list.r",
     "varRefreshCmd": "cat(var_dic_list()) "
    }
   },
   "position": {
    "height": "350px",
    "left": "1368px",
    "right": "20px",
    "top": "54px",
    "width": "446px"
   },
   "types_to_exclude": [
    "module",
    "function",
    "builtin_function_or_method",
    "instance",
    "_Feature"
   ],
   "window_display": true
  }
 },
 "nbformat": 4,
 "nbformat_minor": 2
}
