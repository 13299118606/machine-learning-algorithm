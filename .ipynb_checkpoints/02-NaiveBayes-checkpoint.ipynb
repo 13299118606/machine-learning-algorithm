{
 "cells": [
  {
   "cell_type": "code",
   "execution_count": 1,
   "metadata": {},
   "outputs": [
    {
     "name": "stdout",
     "output_type": "stream",
     "text": [
      "start read file\n",
      "start read file\n"
     ]
    }
   ],
   "source": [
    "from minst import loadData\n",
    "trainDataArr, trainLabelArr = loadData(fileName='D:/Jupyter/mnist_train.csv',data_bin=1)\n",
    "testDataArr, testLabelArr   = loadData(fileName='D:/Jupyter/mnist_test.csv',data_bin=1)"
   ]
  },
  {
   "cell_type": "code",
   "execution_count": 2,
   "metadata": {},
   "outputs": [],
   "source": [
    "import numpy as np\n",
    "import time\n",
    "\n",
    "def getAllProbability(trainDataArr, trainLabelArr,K=10,alambda=1):\n",
    "    '''\n",
    "    通过训练集计算先验概率分布和条件概率分布\n",
    "    :param trainDataArr: 训练数据集\n",
    "    :param trainLabelArr: 训练标记集\n",
    "    :param K: 标记个数\n",
    "    :param alambda: 平滑算子（防止出现0）\n",
    "    :return: 先验概率分布P(Y)和条件概率分布P(X=x|Y=y)\n",
    "    '''\n",
    "    featureNum = 784      #特征数\n",
    "    \n",
    "    '''先验概率分布P(Y)'''\n",
    "    Py = np.zeros((K, 1))\n",
    "    for i in range(K):\n",
    "        Py[i] = (np.sum(np.mat(trainLabelArr)==i)+ alambda)/(len(trainLabelArr)+K)  #np.sum(trainLabel==i)---矩阵trainLabel==i中Ture的个数，即label中有多少个为i的标记\n",
    "    Py = np.log(Py)        #转换为log对数形式\n",
    "\n",
    "    '''条件概率分布P(X=x|Y=y)'''\n",
    "    Px_y = np.zeros((K, featureNum, 2))     \n",
    "    for i in range(len(trainLabelArr)):   #计算y=label，第j个特征为0和1的个数\n",
    "        label = trainLabelArr[i]\n",
    "        x     = trainDataArr[i]\n",
    "        for j in range(featureNum):\n",
    "            Px_y[label][j][x[j]] += 1    # x[j]=0或1\n",
    "\n",
    "    for label in range(K):               \n",
    "        for j in range(featureNum):      \n",
    "            \n",
    "            Px_y0 = Px_y[label][j][0]    #获取y=label，第j个特诊为0的个数            \n",
    "            Px_y1 = Px_y[label][j][1]    #获取y=label，第j个特诊为1的个数\n",
    "            \n",
    "            #分别计算对于y= label，x第j个特征为0和1的条件概率分布\n",
    "            Px_y[label][j][0] = np.log((Px_y0 + alambda) / (Px_y0 + Px_y1 + 2*alambda))\n",
    "            Px_y[label][j][1] = np.log((Px_y1 + alambda) / (Px_y0 + Px_y1 + 2*alambda))\n",
    "\n",
    "    return Py, Px_y            \n",
    "    \n",
    "    "
   ]
  },
  {
   "cell_type": "code",
   "execution_count": 3,
   "metadata": {},
   "outputs": [],
   "source": [
    "Py, Px_y = getAllProbability(trainDataArr, trainLabelArr)"
   ]
  },
  {
   "cell_type": "code",
   "execution_count": 4,
   "metadata": {},
   "outputs": [],
   "source": [
    "def NaiveBayes(Py, Px_y, x,K=10):\n",
    "    '''\n",
    "    通过朴素贝叶斯进行概率估计\n",
    "    :param Py: 先验概率分布\n",
    "    :param Px_y: 条件概率分布\n",
    "    :param x: 要估计的样本x\n",
    "    :return: 返回所有label的估计概率\n",
    "    '''\n",
    "   \n",
    "    featrueNum = 784     #设置特征数目\n",
    "    P = [0] * K          #建立存放所有标记的估计概率数组    \n",
    "\n",
    "    for label in range(K):     #对于每一个类别，单独估计其概率        \n",
    "        #在训练过程中对概率进行了log处理，所以这里原先应当是连乘所有概率，最后比较哪个概率最大.但是当使用log处理时，连乘变成了累加，所以使用sum        \n",
    "        sum = 0     \n",
    "        for j in range(featrueNum):\n",
    "            sum += Px_y[label][j][x[j]]\n",
    "        P[i] = sum + Py[label]\n",
    "\n",
    "    return P.index(max(P))    #找到该概率最大值对应的所有（索引值和标签值相等）"
   ]
  },
  {
   "cell_type": "code",
   "execution_count": 5,
   "metadata": {},
   "outputs": [],
   "source": [
    "errorCnt = 0\n",
    "\n",
    "for i in range(len(testDataArr)):\n",
    "    presict = NaiveBayes(Py, Px_y,testDataArr[i])\n",
    "    if presict != testLabelArr[i]:\n",
    "        errorCnt += 1\n",
    "\n",
    "accuracy = 1 - (errorCnt / len(testDataArr))"
   ]
  }
 ],
 "metadata": {
  "kernelspec": {
   "display_name": "Python 3",
   "language": "python",
   "name": "python3"
  },
  "language_info": {
   "codemirror_mode": {
    "name": "ipython",
    "version": 3
   },
   "file_extension": ".py",
   "mimetype": "text/x-python",
   "name": "python",
   "nbconvert_exporter": "python",
   "pygments_lexer": "ipython3",
   "version": "3.6.5"
  },
  "varInspector": {
   "cols": {
    "lenName": 16,
    "lenType": 16,
    "lenVar": 40
   },
   "kernels_config": {
    "python": {
     "delete_cmd_postfix": "",
     "delete_cmd_prefix": "del ",
     "library": "var_list.py",
     "varRefreshCmd": "print(var_dic_list())"
    },
    "r": {
     "delete_cmd_postfix": ") ",
     "delete_cmd_prefix": "rm(",
     "library": "var_list.r",
     "varRefreshCmd": "cat(var_dic_list()) "
    }
   },
   "oldHeight": 233,
   "position": {
    "height": "40px",
    "left": "911px",
    "right": "20px",
    "top": "106px",
    "width": "350px"
   },
   "types_to_exclude": [
    "module",
    "function",
    "builtin_function_or_method",
    "instance",
    "_Feature"
   ],
   "varInspector_section_display": "none",
   "window_display": true
  }
 },
 "nbformat": 4,
 "nbformat_minor": 2
}
